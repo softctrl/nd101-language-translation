{
 "cells": [
  {
   "cell_type": "markdown",
   "metadata": {
    "collapsed": true
   },
   "source": [
    "# Language Translation\n",
    "In this project, you’re going to take a peek into the realm of neural network machine translation.  You’ll be training a sequence to sequence model on a dataset of English and French sentences that can translate new sentences from English to French.\n",
    "## Get the Data\n",
    "Since translating the whole language of English to French will take lots of time to train, we have provided you with a small portion of the English corpus."
   ]
  },
  {
   "cell_type": "code",
   "execution_count": 1,
   "metadata": {
    "collapsed": true
   },
   "outputs": [],
   "source": [
    "\"\"\"\n",
    "DON'T MODIFY ANYTHING IN THIS CELL\n",
    "\"\"\"\n",
    "import helper\n",
    "import problem_unittests as tests\n",
    "\n",
    "source_path = 'data/small_vocab_en'\n",
    "target_path = 'data/small_vocab_fr'\n",
    "source_text = helper.load_data(source_path)\n",
    "target_text = helper.load_data(target_path)"
   ]
  },
  {
   "cell_type": "markdown",
   "metadata": {},
   "source": [
    "## Explore the Data\n",
    "Play around with view_sentence_range to view different parts of the data."
   ]
  },
  {
   "cell_type": "code",
   "execution_count": 2,
   "metadata": {
    "collapsed": false
   },
   "outputs": [
    {
     "name": "stdout",
     "output_type": "stream",
     "text": [
      "Dataset Stats\n",
      "Roughly the number of unique words: 227\n",
      "Number of sentences: 137861\n",
      "Average number of words in a sentence: 13.225277634719028\n",
      "\n",
      "English sentences 0 to 10:\n",
      "new jersey is sometimes quiet during autumn , and it is snowy in april .\n",
      "the united states is usually chilly during july , and it is usually freezing in november .\n",
      "california is usually quiet during march , and it is usually hot in june .\n",
      "the united states is sometimes mild during june , and it is cold in september .\n",
      "your least liked fruit is the grape , but my least liked is the apple .\n",
      "his favorite fruit is the orange , but my favorite is the grape .\n",
      "paris is relaxing during december , but it is usually chilly in july .\n",
      "new jersey is busy during spring , and it is never hot in march .\n",
      "our least liked fruit is the lemon , but my least liked is the grape .\n",
      "the united states is sometimes busy during january , and it is sometimes warm in november .\n",
      "\n",
      "French sentences 0 to 10:\n",
      "new jersey est parfois calme pendant l' automne , et il est neigeux en avril .\n",
      "les états-unis est généralement froid en juillet , et il gèle habituellement en novembre .\n",
      "california est généralement calme en mars , et il est généralement chaud en juin .\n",
      "les états-unis est parfois légère en juin , et il fait froid en septembre .\n",
      "votre moins aimé fruit est le raisin , mais mon moins aimé est la pomme .\n",
      "son fruit préféré est l'orange , mais mon préféré est le raisin .\n",
      "paris est relaxant en décembre , mais il est généralement froid en juillet .\n",
      "new jersey est occupé au printemps , et il est jamais chaude en mars .\n",
      "notre fruit est moins aimé le citron , mais mon moins aimé est le raisin .\n",
      "les états-unis est parfois occupé en janvier , et il est parfois chaud en novembre .\n"
     ]
    }
   ],
   "source": [
    "view_sentence_range = (0, 10)\n",
    "\n",
    "\"\"\"\n",
    "DON'T MODIFY ANYTHING IN THIS CELL\n",
    "\"\"\"\n",
    "import numpy as np\n",
    "\n",
    "print('Dataset Stats')\n",
    "print('Roughly the number of unique words: {}'.format(len({word: None for word in source_text.split()})))\n",
    "\n",
    "sentences = source_text.split('\\n')\n",
    "word_counts = [len(sentence.split()) for sentence in sentences]\n",
    "print('Number of sentences: {}'.format(len(sentences)))\n",
    "print('Average number of words in a sentence: {}'.format(np.average(word_counts)))\n",
    "\n",
    "print()\n",
    "print('English sentences {} to {}:'.format(*view_sentence_range))\n",
    "print('\\n'.join(source_text.split('\\n')[view_sentence_range[0]:view_sentence_range[1]]))\n",
    "print()\n",
    "print('French sentences {} to {}:'.format(*view_sentence_range))\n",
    "print('\\n'.join(target_text.split('\\n')[view_sentence_range[0]:view_sentence_range[1]]))"
   ]
  },
  {
   "cell_type": "markdown",
   "metadata": {},
   "source": [
    "## Implement Preprocessing Function\n",
    "### Text to Word Ids\n",
    "As you did with other RNNs, you must turn the text into a number so the computer can understand it. In the function `text_to_ids()`, you'll turn `source_text` and `target_text` from words to ids.  However, you need to add the `<EOS>` word id at the end of `target_text`.  This will help the neural network predict when the sentence should end.\n",
    "\n",
    "You can get the `<EOS>` word id by doing:\n",
    "```python\n",
    "target_vocab_to_int['<EOS>']\n",
    "```\n",
    "You can get other word ids using `source_vocab_to_int` and `target_vocab_to_int`."
   ]
  },
  {
   "cell_type": "code",
   "execution_count": 3,
   "metadata": {
    "collapsed": false
   },
   "outputs": [
    {
     "name": "stdout",
     "output_type": "stream",
     "text": [
      "Tests Passed\n"
     ]
    }
   ],
   "source": [
    "def text_to_ids(source_text, target_text, source_vocab_to_int, target_vocab_to_int):\n",
    "    \"\"\"\n",
    "    Convert source and target text to proper word ids\n",
    "    :param source_text: String that contains all the source text.\n",
    "    :param target_text: String that contains all the target text.\n",
    "    :param source_vocab_to_int: Dictionary to go from the source words to an id\n",
    "    :param target_vocab_to_int: Dictionary to go from the target words to an id\n",
    "    :return: A tuple of lists (source_id_text, target_id_text)\n",
    "    \"\"\"\n",
    "    # TODO: Implement Function\n",
    "    source_sentences = [sentence for sentence in source_text.split('\\n')]\n",
    "    target_sentences = [sentence + ' <EOS>' for sentence in target_text.split('\\n')]\n",
    "    source= [[source_vocab_to_int[word] for word in sentence.split()] for sentence in source_sentences]\n",
    "    target = [[target_vocab_to_int[word] for word in sentence.split()] for sentence in target_sentences]    \n",
    "    return source, target\n",
    "\n",
    "\"\"\"\n",
    "DON'T MODIFY ANYTHING IN THIS CELL THAT IS BELOW THIS LINE\n",
    "\"\"\"\n",
    "tests.test_text_to_ids(text_to_ids)"
   ]
  },
  {
   "cell_type": "markdown",
   "metadata": {},
   "source": [
    "### Preprocess all the data and save it\n",
    "Running the code cell below will preprocess all the data and save it to file."
   ]
  },
  {
   "cell_type": "code",
   "execution_count": 4,
   "metadata": {
    "collapsed": true
   },
   "outputs": [],
   "source": [
    "\"\"\"\n",
    "DON'T MODIFY ANYTHING IN THIS CELL\n",
    "\"\"\"\n",
    "helper.preprocess_and_save_data(source_path, target_path, text_to_ids)"
   ]
  },
  {
   "cell_type": "markdown",
   "metadata": {},
   "source": [
    "# Check Point\n",
    "This is your first checkpoint. If you ever decide to come back to this notebook or have to restart the notebook, you can start from here. The preprocessed data has been saved to disk."
   ]
  },
  {
   "cell_type": "code",
   "execution_count": 5,
   "metadata": {
    "collapsed": true
   },
   "outputs": [],
   "source": [
    "\"\"\"\n",
    "DON'T MODIFY ANYTHING IN THIS CELL\n",
    "\"\"\"\n",
    "import numpy as np\n",
    "import helper\n",
    "\n",
    "(source_int_text, target_int_text), (source_vocab_to_int, target_vocab_to_int), _ = helper.load_preprocess()"
   ]
  },
  {
   "cell_type": "markdown",
   "metadata": {},
   "source": [
    "### Check the Version of TensorFlow and Access to GPU\n",
    "This will check to make sure you have the correct version of TensorFlow and access to a GPU"
   ]
  },
  {
   "cell_type": "code",
   "execution_count": 6,
   "metadata": {
    "collapsed": false
   },
   "outputs": [
    {
     "name": "stdout",
     "output_type": "stream",
     "text": [
      "TensorFlow Version: 1.2.1\n",
      "Default GPU Device: /gpu:0\n"
     ]
    }
   ],
   "source": [
    "\"\"\"\n",
    "DON'T MODIFY ANYTHING IN THIS CELL\n",
    "\"\"\"\n",
    "from distutils.version import LooseVersion\n",
    "import warnings\n",
    "import tensorflow as tf\n",
    "from tensorflow.python.layers.core import Dense\n",
    "\n",
    "# Check TensorFlow Version\n",
    "assert LooseVersion(tf.__version__) >= LooseVersion('1.1'), 'Please use TensorFlow version 1.1 or newer'\n",
    "print('TensorFlow Version: {}'.format(tf.__version__))\n",
    "\n",
    "# Check for a GPU\n",
    "if not tf.test.gpu_device_name():\n",
    "    warnings.warn('No GPU found. Please use a GPU to train your neural network.')\n",
    "else:\n",
    "    print('Default GPU Device: {}'.format(tf.test.gpu_device_name()))"
   ]
  },
  {
   "cell_type": "markdown",
   "metadata": {},
   "source": [
    "## Build the Neural Network\n",
    "You'll build the components necessary to build a Sequence-to-Sequence model by implementing the following functions below:\n",
    "- `model_inputs`\n",
    "- `process_decoder_input`\n",
    "- `encoding_layer`\n",
    "- `decoding_layer_train`\n",
    "- `decoding_layer_infer`\n",
    "- `decoding_layer`\n",
    "- `seq2seq_model`\n",
    "\n",
    "### Input\n",
    "Implement the `model_inputs()` function to create TF Placeholders for the Neural Network. It should create the following placeholders:\n",
    "\n",
    "- Input text placeholder named \"input\" using the TF Placeholder name parameter with rank 2.\n",
    "- Targets placeholder with rank 2.\n",
    "- Learning rate placeholder with rank 0.\n",
    "- Keep probability placeholder named \"keep_prob\" using the TF Placeholder name parameter with rank 0.\n",
    "- Target sequence length placeholder named \"target_sequence_length\" with rank 1\n",
    "- Max target sequence length tensor named \"max_target_len\" getting its value from applying tf.reduce_max on the target_sequence_length placeholder. Rank 0.\n",
    "- Source sequence length placeholder named \"source_sequence_length\" with rank 1\n",
    "\n",
    "Return the placeholders in the following the tuple (input, targets, learning rate, keep probability, target sequence length, max target sequence length, source sequence length)"
   ]
  },
  {
   "cell_type": "code",
   "execution_count": 7,
   "metadata": {
    "collapsed": false
   },
   "outputs": [
    {
     "name": "stdout",
     "output_type": "stream",
     "text": [
      "ERROR:tensorflow:==================================\n",
      "Object was never used (type <class 'tensorflow.python.framework.ops.Operation'>):\n",
      "<tf.Operation 'assert_rank_2/Assert/Assert' type=Assert>\n",
      "If you want to mark it as used call its \"mark_used()\" method.\n",
      "It was originally created here:\n",
      "['File \"/home/carnd/anaconda3/lib/python3.5/runpy.py\", line 184, in _run_module_as_main\\n    \"__main__\", mod_spec)', 'File \"/home/carnd/anaconda3/lib/python3.5/runpy.py\", line 85, in _run_code\\n    exec(code, run_globals)', 'File \"/home/carnd/anaconda3/lib/python3.5/site-packages/ipykernel/__main__.py\", line 3, in <module>\\n    app.launch_new_instance()', 'File \"/home/carnd/anaconda3/lib/python3.5/site-packages/traitlets/config/application.py\", line 653, in launch_instance\\n    app.start()', 'File \"/home/carnd/anaconda3/lib/python3.5/site-packages/ipykernel/kernelapp.py\", line 474, in start\\n    ioloop.IOLoop.instance().start()', 'File \"/home/carnd/anaconda3/lib/python3.5/site-packages/zmq/eventloop/ioloop.py\", line 162, in start\\n    super(ZMQIOLoop, self).start()', 'File \"/home/carnd/anaconda3/lib/python3.5/site-packages/tornado/ioloop.py\", line 887, in start\\n    handler_func(fd_obj, events)', 'File \"/home/carnd/anaconda3/lib/python3.5/site-packages/tornado/stack_context.py\", line 275, in null_wrapper\\n    return fn(*args, **kwargs)', 'File \"/home/carnd/anaconda3/lib/python3.5/site-packages/zmq/eventloop/zmqstream.py\", line 440, in _handle_events\\n    self._handle_recv()', 'File \"/home/carnd/anaconda3/lib/python3.5/site-packages/zmq/eventloop/zmqstream.py\", line 472, in _handle_recv\\n    self._run_callback(callback, msg)', 'File \"/home/carnd/anaconda3/lib/python3.5/site-packages/zmq/eventloop/zmqstream.py\", line 414, in _run_callback\\n    callback(*args, **kwargs)', 'File \"/home/carnd/anaconda3/lib/python3.5/site-packages/tornado/stack_context.py\", line 275, in null_wrapper\\n    return fn(*args, **kwargs)', 'File \"/home/carnd/anaconda3/lib/python3.5/site-packages/ipykernel/kernelbase.py\", line 276, in dispatcher\\n    return self.dispatch_shell(stream, msg)', 'File \"/home/carnd/anaconda3/lib/python3.5/site-packages/ipykernel/kernelbase.py\", line 228, in dispatch_shell\\n    handler(stream, idents, msg)', 'File \"/home/carnd/anaconda3/lib/python3.5/site-packages/ipykernel/kernelbase.py\", line 390, in execute_request\\n    user_expressions, allow_stdin)', 'File \"/home/carnd/anaconda3/lib/python3.5/site-packages/ipykernel/ipkernel.py\", line 196, in do_execute\\n    res = shell.run_cell(code, store_history=store_history, silent=silent)', 'File \"/home/carnd/anaconda3/lib/python3.5/site-packages/ipykernel/zmqshell.py\", line 501, in run_cell\\n    return super(ZMQInteractiveShell, self).run_cell(*args, **kwargs)', 'File \"/home/carnd/anaconda3/lib/python3.5/site-packages/IPython/core/interactiveshell.py\", line 2717, in run_cell\\n    interactivity=interactivity, compiler=compiler, result=result)', 'File \"/home/carnd/anaconda3/lib/python3.5/site-packages/IPython/core/interactiveshell.py\", line 2827, in run_ast_nodes\\n    if self.run_code(code, result):', 'File \"/home/carnd/anaconda3/lib/python3.5/site-packages/IPython/core/interactiveshell.py\", line 2881, in run_code\\n    exec(code_obj, self.user_global_ns, self.user_ns)', 'File \"<ipython-input-7-483226cfb4d6>\", line 21, in <module>\\n    tests.test_model_inputs(model_inputs)', 'File \"/home/carnd/deep-learning/language-translation/problem_unittests.py\", line 106, in test_model_inputs\\n    assert tf.assert_rank(lr, 0, message=\\'Learning Rate has wrong rank\\')', 'File \"/home/carnd/anaconda3/lib/python3.5/site-packages/tensorflow/python/ops/check_ops.py\", line 617, in assert_rank\\n    dynamic_condition, data, summarize)', 'File \"/home/carnd/anaconda3/lib/python3.5/site-packages/tensorflow/python/ops/check_ops.py\", line 571, in _assert_rank_condition\\n    return control_flow_ops.Assert(condition, data, summarize=summarize)', 'File \"/home/carnd/anaconda3/lib/python3.5/site-packages/tensorflow/python/util/tf_should_use.py\", line 170, in wrapped\\n    return _add_should_use_warning(fn(*args, **kwargs))', 'File \"/home/carnd/anaconda3/lib/python3.5/site-packages/tensorflow/python/util/tf_should_use.py\", line 139, in _add_should_use_warning\\n    wrapped = TFShouldUseWarningWrapper(x)', 'File \"/home/carnd/anaconda3/lib/python3.5/site-packages/tensorflow/python/util/tf_should_use.py\", line 96, in __init__\\n    stack = [s.strip() for s in traceback.format_stack()]']\n",
      "==================================\n",
      "ERROR:tensorflow:==================================\n",
      "Object was never used (type <class 'tensorflow.python.framework.ops.Operation'>):\n",
      "<tf.Operation 'assert_rank_3/Assert/Assert' type=Assert>\n",
      "If you want to mark it as used call its \"mark_used()\" method.\n",
      "It was originally created here:\n",
      "['File \"/home/carnd/anaconda3/lib/python3.5/runpy.py\", line 184, in _run_module_as_main\\n    \"__main__\", mod_spec)', 'File \"/home/carnd/anaconda3/lib/python3.5/runpy.py\", line 85, in _run_code\\n    exec(code, run_globals)', 'File \"/home/carnd/anaconda3/lib/python3.5/site-packages/ipykernel/__main__.py\", line 3, in <module>\\n    app.launch_new_instance()', 'File \"/home/carnd/anaconda3/lib/python3.5/site-packages/traitlets/config/application.py\", line 653, in launch_instance\\n    app.start()', 'File \"/home/carnd/anaconda3/lib/python3.5/site-packages/ipykernel/kernelapp.py\", line 474, in start\\n    ioloop.IOLoop.instance().start()', 'File \"/home/carnd/anaconda3/lib/python3.5/site-packages/zmq/eventloop/ioloop.py\", line 162, in start\\n    super(ZMQIOLoop, self).start()', 'File \"/home/carnd/anaconda3/lib/python3.5/site-packages/tornado/ioloop.py\", line 887, in start\\n    handler_func(fd_obj, events)', 'File \"/home/carnd/anaconda3/lib/python3.5/site-packages/tornado/stack_context.py\", line 275, in null_wrapper\\n    return fn(*args, **kwargs)', 'File \"/home/carnd/anaconda3/lib/python3.5/site-packages/zmq/eventloop/zmqstream.py\", line 440, in _handle_events\\n    self._handle_recv()', 'File \"/home/carnd/anaconda3/lib/python3.5/site-packages/zmq/eventloop/zmqstream.py\", line 472, in _handle_recv\\n    self._run_callback(callback, msg)', 'File \"/home/carnd/anaconda3/lib/python3.5/site-packages/zmq/eventloop/zmqstream.py\", line 414, in _run_callback\\n    callback(*args, **kwargs)', 'File \"/home/carnd/anaconda3/lib/python3.5/site-packages/tornado/stack_context.py\", line 275, in null_wrapper\\n    return fn(*args, **kwargs)', 'File \"/home/carnd/anaconda3/lib/python3.5/site-packages/ipykernel/kernelbase.py\", line 276, in dispatcher\\n    return self.dispatch_shell(stream, msg)', 'File \"/home/carnd/anaconda3/lib/python3.5/site-packages/ipykernel/kernelbase.py\", line 228, in dispatch_shell\\n    handler(stream, idents, msg)', 'File \"/home/carnd/anaconda3/lib/python3.5/site-packages/ipykernel/kernelbase.py\", line 390, in execute_request\\n    user_expressions, allow_stdin)', 'File \"/home/carnd/anaconda3/lib/python3.5/site-packages/ipykernel/ipkernel.py\", line 196, in do_execute\\n    res = shell.run_cell(code, store_history=store_history, silent=silent)', 'File \"/home/carnd/anaconda3/lib/python3.5/site-packages/ipykernel/zmqshell.py\", line 501, in run_cell\\n    return super(ZMQInteractiveShell, self).run_cell(*args, **kwargs)', 'File \"/home/carnd/anaconda3/lib/python3.5/site-packages/IPython/core/interactiveshell.py\", line 2717, in run_cell\\n    interactivity=interactivity, compiler=compiler, result=result)', 'File \"/home/carnd/anaconda3/lib/python3.5/site-packages/IPython/core/interactiveshell.py\", line 2827, in run_ast_nodes\\n    if self.run_code(code, result):', 'File \"/home/carnd/anaconda3/lib/python3.5/site-packages/IPython/core/interactiveshell.py\", line 2881, in run_code\\n    exec(code_obj, self.user_global_ns, self.user_ns)', 'File \"<ipython-input-7-483226cfb4d6>\", line 21, in <module>\\n    tests.test_model_inputs(model_inputs)', 'File \"/home/carnd/deep-learning/language-translation/problem_unittests.py\", line 107, in test_model_inputs\\n    assert tf.assert_rank(keep_prob, 0, message=\\'Keep Probability has wrong rank\\')', 'File \"/home/carnd/anaconda3/lib/python3.5/site-packages/tensorflow/python/ops/check_ops.py\", line 617, in assert_rank\\n    dynamic_condition, data, summarize)', 'File \"/home/carnd/anaconda3/lib/python3.5/site-packages/tensorflow/python/ops/check_ops.py\", line 571, in _assert_rank_condition\\n    return control_flow_ops.Assert(condition, data, summarize=summarize)', 'File \"/home/carnd/anaconda3/lib/python3.5/site-packages/tensorflow/python/util/tf_should_use.py\", line 170, in wrapped\\n    return _add_should_use_warning(fn(*args, **kwargs))', 'File \"/home/carnd/anaconda3/lib/python3.5/site-packages/tensorflow/python/util/tf_should_use.py\", line 139, in _add_should_use_warning\\n    wrapped = TFShouldUseWarningWrapper(x)', 'File \"/home/carnd/anaconda3/lib/python3.5/site-packages/tensorflow/python/util/tf_should_use.py\", line 96, in __init__\\n    stack = [s.strip() for s in traceback.format_stack()]']\n",
      "==================================\n",
      "Tests Passed\n"
     ]
    }
   ],
   "source": [
    "def model_inputs():\n",
    "    \"\"\"\n",
    "    Create TF Placeholders for input, targets, learning rate, and lengths of source and target sequences.\n",
    "    :return: Tuple (input, targets, learning rate, keep probability, target sequence length,\n",
    "    max target sequence length, source sequence length)\n",
    "    \"\"\"\n",
    "    # TODO: Implement Function\n",
    "    _input = tf.placeholder(tf.int32, [None, None], name='input')\n",
    "    targets = tf.placeholder(tf.int32, [None, None], name='targets')\n",
    "    learning_rate = tf.placeholder(tf.float32, None, name='learning_rate')\n",
    "    keep_prob = tf.placeholder(tf.float32, None, name='keep_prob')\n",
    "    target_seq_length = tf.placeholder(tf.int32, [None], name='target_sequence_length')\n",
    "    max_target_seq_length = tf.reduce_max(target_seq_length)\n",
    "    source_sequence_length = tf.placeholder(tf.int32, [None], name='source_sequence_length')\n",
    "    return _input, targets, learning_rate, keep_prob, target_seq_length, max_target_seq_length, source_sequence_length\n",
    "\n",
    "\n",
    "\"\"\"\n",
    "DON'T MODIFY ANYTHING IN THIS CELL THAT IS BELOW THIS LINE\n",
    "\"\"\"\n",
    "tests.test_model_inputs(model_inputs)"
   ]
  },
  {
   "cell_type": "markdown",
   "metadata": {},
   "source": [
    "### Process Decoder Input\n",
    "Implement `process_decoder_input` by removing the last word id from each batch in `target_data` and concat the GO ID to the begining of each batch."
   ]
  },
  {
   "cell_type": "code",
   "execution_count": 8,
   "metadata": {
    "collapsed": false
   },
   "outputs": [
    {
     "name": "stdout",
     "output_type": "stream",
     "text": [
      "Tests Passed\n"
     ]
    }
   ],
   "source": [
    "def process_decoder_input(target_data, target_vocab_to_int, batch_size):\n",
    "    \"\"\"\n",
    "    Preprocess target data for encoding\n",
    "    :param target_data: Target Placehoder\n",
    "    :param target_vocab_to_int: Dictionary to go from the target words to an id\n",
    "    :param batch_size: Batch Size\n",
    "    :return: Preprocessed target data\n",
    "    \"\"\"\n",
    "    # TODO: Implement Function\n",
    "    target_data_slice = tf.strided_slice(target_data, [0, 0], [batch_size, -1], [1, 1])\n",
    "    decoder_input = tf.concat([tf.fill([batch_size, 1], target_vocab_to_int['<GO>']), target_data_slice], 1)\n",
    "    return decoder_input\n",
    "\n",
    "\"\"\"\n",
    "DON'T MODIFY ANYTHING IN THIS CELL THAT IS BELOW THIS LINE\n",
    "\"\"\"\n",
    "tests.test_process_encoding_input(process_decoder_input)"
   ]
  },
  {
   "cell_type": "markdown",
   "metadata": {},
   "source": [
    "### Encoding\n",
    "Implement `encoding_layer()` to create a Encoder RNN layer:\n",
    " * Embed the encoder input using [`tf.contrib.layers.embed_sequence`](https://www.tensorflow.org/api_docs/python/tf/contrib/layers/embed_sequence)\n",
    " * Construct a [stacked](https://github.com/tensorflow/tensorflow/blob/6947f65a374ebf29e74bb71e36fd82760056d82c/tensorflow/docs_src/tutorials/recurrent.md#stacking-multiple-lstms) [`tf.contrib.rnn.LSTMCell`](https://www.tensorflow.org/api_docs/python/tf/contrib/rnn/LSTMCell) wrapped in a [`tf.contrib.rnn.DropoutWrapper`](https://www.tensorflow.org/api_docs/python/tf/contrib/rnn/DropoutWrapper)\n",
    " * Pass cell and embedded input to [`tf.nn.dynamic_rnn()`](https://www.tensorflow.org/api_docs/python/tf/nn/dynamic_rnn)"
   ]
  },
  {
   "cell_type": "code",
   "execution_count": 9,
   "metadata": {
    "collapsed": false,
    "scrolled": false
   },
   "outputs": [
    {
     "name": "stdout",
     "output_type": "stream",
     "text": [
      "Tests Passed\n"
     ]
    }
   ],
   "source": [
    "from imp import reload\n",
    "reload(tests)\n",
    "\n",
    "def encoding_layer(rnn_inputs, rnn_size, num_layers, keep_prob, \n",
    "                   source_sequence_length, source_vocab_size, \n",
    "                   encoding_embedding_size):\n",
    "    \"\"\"\n",
    "    Create encoding layer\n",
    "    :param rnn_inputs: Inputs for the RNN\n",
    "    :param rnn_size: RNN Size\n",
    "    :param num_layers: Number of layers\n",
    "    :param keep_prob: Dropout keep probability\n",
    "    :param source_sequence_length: a list of the lengths of each sequence in the batch\n",
    "    :param source_vocab_size: vocabulary size of source data\n",
    "    :param encoding_embedding_size: embedding size of source data\n",
    "    :return: tuple (RNN output, RNN state)\n",
    "    \"\"\"\n",
    "    # TODO: Implement Function\n",
    "    enc_inputs = tf.contrib.layers.embed_sequence(rnn_inputs, source_vocab_size, encoding_embedding_size)    \n",
    "    cell = tf.contrib.rnn.MultiRNNCell([tf.contrib.rnn.LSTMCell(rnn_size) for _ in range(num_layers) ])\n",
    "    cell = tf.contrib.rnn.DropoutWrapper(cell, output_keep_prob=keep_prob)\n",
    "    enc_output, enc_state = tf.nn.dynamic_rnn(cell, enc_inputs, sequence_length=source_sequence_length, dtype=tf.float32)\n",
    "    return enc_output, enc_state\n",
    "\n",
    "\"\"\"\n",
    "DON'T MODIFY ANYTHING IN THIS CELL THAT IS BELOW THIS LINE\n",
    "\"\"\"\n",
    "tests.test_encoding_layer(encoding_layer)"
   ]
  },
  {
   "cell_type": "markdown",
   "metadata": {},
   "source": [
    "### Decoding - Training\n",
    "Create a training decoding layer:\n",
    "* Create a [`tf.contrib.seq2seq.TrainingHelper`](https://www.tensorflow.org/api_docs/python/tf/contrib/seq2seq/TrainingHelper) \n",
    "* Create a [`tf.contrib.seq2seq.BasicDecoder`](https://www.tensorflow.org/api_docs/python/tf/contrib/seq2seq/BasicDecoder)\n",
    "* Obtain the decoder outputs from [`tf.contrib.seq2seq.dynamic_decode`](https://www.tensorflow.org/api_docs/python/tf/contrib/seq2seq/dynamic_decode)"
   ]
  },
  {
   "cell_type": "code",
   "execution_count": 10,
   "metadata": {
    "collapsed": false
   },
   "outputs": [
    {
     "name": "stdout",
     "output_type": "stream",
     "text": [
      "Tests Passed\n"
     ]
    }
   ],
   "source": [
    "\n",
    "def decoding_layer_train(encoder_state, dec_cell, dec_embed_input, \n",
    "                         target_sequence_length, max_summary_length, \n",
    "                         output_layer, keep_prob):\n",
    "    \"\"\"\n",
    "    Create a decoding layer for training\n",
    "    :param encoder_state: Encoder State\n",
    "    :param dec_cell: Decoder RNN Cell\n",
    "    :param dec_embed_input: Decoder embedded input\n",
    "    :param target_sequence_length: The lengths of each sequence in the target batch\n",
    "    :param max_summary_length: The length of the longest sequence in the batch\n",
    "    :param output_layer: Function to apply the output layer\n",
    "    :param keep_prob: Dropout keep probability\n",
    "    :return: BasicDecoderOutput containing training logits and sample_id\n",
    "    \"\"\"\n",
    "    # TODO: Implement Function\n",
    "    helper = tf.contrib.seq2seq.TrainingHelper(dec_embed_input, target_sequence_length)\n",
    "    decoder = tf.contrib.seq2seq.BasicDecoder(dec_cell, helper, encoder_state, output_layer=output_layer)\n",
    "    outputs, _, _ = tf.contrib.seq2seq.dynamic_decode(decoder, impute_finished=True, maximum_iterations=max_summary_length)\n",
    "    return outputs\n",
    "\n",
    "\n",
    "\n",
    "\"\"\"\n",
    "DON'T MODIFY ANYTHING IN THIS CELL THAT IS BELOW THIS LINE\n",
    "\"\"\"\n",
    "tests.test_decoding_layer_train(decoding_layer_train)"
   ]
  },
  {
   "cell_type": "markdown",
   "metadata": {},
   "source": [
    "### Decoding - Inference\n",
    "Create inference decoder:\n",
    "* Create a [`tf.contrib.seq2seq.GreedyEmbeddingHelper`](https://www.tensorflow.org/api_docs/python/tf/contrib/seq2seq/GreedyEmbeddingHelper)\n",
    "* Create a [`tf.contrib.seq2seq.BasicDecoder`](https://www.tensorflow.org/api_docs/python/tf/contrib/seq2seq/BasicDecoder)\n",
    "* Obtain the decoder outputs from [`tf.contrib.seq2seq.dynamic_decode`](https://www.tensorflow.org/api_docs/python/tf/contrib/seq2seq/dynamic_decode)"
   ]
  },
  {
   "cell_type": "code",
   "execution_count": 11,
   "metadata": {
    "collapsed": false,
    "scrolled": true
   },
   "outputs": [
    {
     "name": "stdout",
     "output_type": "stream",
     "text": [
      "Tests Passed\n"
     ]
    }
   ],
   "source": [
    "def decoding_layer_infer(encoder_state, dec_cell, dec_embeddings, start_of_sequence_id,\n",
    "                         end_of_sequence_id, max_target_sequence_length,\n",
    "                         vocab_size, output_layer, batch_size, keep_prob):\n",
    "    \"\"\"\n",
    "    Create a decoding layer for inference\n",
    "    :param encoder_state: Encoder state\n",
    "    :param dec_cell: Decoder RNN Cell\n",
    "    :param dec_embeddings: Decoder embeddings\n",
    "    :param start_of_sequence_id: GO ID\n",
    "    :param end_of_sequence_id: EOS Id\n",
    "    :param max_target_sequence_length: Maximum length of target sequences\n",
    "    :param vocab_size: Size of decoder/target vocabulary\n",
    "    :param decoding_scope: TenorFlow Variable Scope for decoding\n",
    "    :param output_layer: Function to apply the output layer\n",
    "    :param batch_size: Batch size\n",
    "    :param keep_prob: Dropout keep probability\n",
    "    :return: BasicDecoderOutput containing inference logits and sample_id\n",
    "    \"\"\"\n",
    "    # TODO: Implement Function\n",
    "    start_tokens = tf.tile(tf.constant([start_of_sequence_id], dtype=tf.int32), [batch_size], name='start_tokens')\n",
    "    helper = tf.contrib.seq2seq.GreedyEmbeddingHelper(dec_embeddings, start_tokens, end_of_sequence_id)\n",
    "    decoder = tf.contrib.seq2seq.BasicDecoder(dec_cell, helper, encoder_state, output_layer=output_layer)  \n",
    "    outputs, _, _ = tf.contrib.seq2seq.dynamic_decode(decoder,impute_finished=True, maximum_iterations=max_target_sequence_length)\n",
    "    return outputs\n",
    "\n",
    "\n",
    "\n",
    "\"\"\"\n",
    "DON'T MODIFY ANYTHING IN THIS CELL THAT IS BELOW THIS LINE\n",
    "\"\"\"\n",
    "tests.test_decoding_layer_infer(decoding_layer_infer)"
   ]
  },
  {
   "cell_type": "markdown",
   "metadata": {},
   "source": [
    "### Build the Decoding Layer\n",
    "Implement `decoding_layer()` to create a Decoder RNN layer.\n",
    "\n",
    "* Embed the target sequences\n",
    "* Construct the decoder LSTM cell (just like you constructed the encoder cell above)\n",
    "* Create an output layer to map the outputs of the decoder to the elements of our vocabulary\n",
    "* Use the your `decoding_layer_train(encoder_state, dec_cell, dec_embed_input, target_sequence_length, max_target_sequence_length, output_layer, keep_prob)` function to get the training logits.\n",
    "* Use your `decoding_layer_infer(encoder_state, dec_cell, dec_embeddings, start_of_sequence_id, end_of_sequence_id, max_target_sequence_length, vocab_size, output_layer, batch_size, keep_prob)` function to get the inference logits.\n",
    "\n",
    "Note: You'll need to use [tf.variable_scope](https://www.tensorflow.org/api_docs/python/tf/variable_scope) to share variables between training and inference."
   ]
  },
  {
   "cell_type": "code",
   "execution_count": 12,
   "metadata": {
    "collapsed": false
   },
   "outputs": [
    {
     "name": "stdout",
     "output_type": "stream",
     "text": [
      "Tests Passed\n"
     ]
    }
   ],
   "source": [
    "from tensorflow.python.layers import core as lc\n",
    "def decoding_layer(dec_input, encoder_state,\n",
    "                   target_sequence_length, max_target_sequence_length,\n",
    "                   rnn_size,\n",
    "                   num_layers, target_vocab_to_int, target_vocab_size,\n",
    "                   batch_size, keep_prob, decoding_embedding_size):\n",
    "    \"\"\"\n",
    "    Create decoding layer\n",
    "    :param dec_input: Decoder input\n",
    "    :param encoder_state: Encoder state\n",
    "    :param target_sequence_length: The lengths of each sequence in the target batch\n",
    "    :param max_target_sequence_length: Maximum length of target sequences\n",
    "    :param rnn_size: RNN Size\n",
    "    :param num_layers: Number of layers\n",
    "    :param target_vocab_to_int: Dictionary to go from the target words to an id\n",
    "    :param target_vocab_size: Size of target vocabulary\n",
    "    :param batch_size: The size of the batch\n",
    "    :param keep_prob: Dropout keep probability\n",
    "    :param decoding_embedding_size: Decoding embedding size\n",
    "    :return: Tuple of (Training BasicDecoderOutput, Inference BasicDecoderOutput)\n",
    "    \"\"\"\n",
    "    # TODO: Implement Function\n",
    "    dec_embeddings = tf.Variable(tf.random_uniform([target_vocab_size, decoding_embedding_size]))\n",
    "    dec_embed_input = tf.nn.embedding_lookup(dec_embeddings, dec_input)\n",
    "    \n",
    "    dec_cell = tf.contrib.rnn.MultiRNNCell([tf.contrib.rnn.LSTMCell(rnn_size) for _ in range(num_layers) ])\n",
    "    output_layer = lc.Dense(target_vocab_size,kernel_initializer = tf.truncated_normal_initializer(mean = 0.0, stddev=0.1))\n",
    "  \n",
    "    with tf.variable_scope(\"decoding\") as decoding_scope:\n",
    "        outputs_train = decoding_layer_train(encoder_state, dec_cell, dec_embed_input, target_sequence_length, max_target_sequence_length, output_layer, keep_prob)\n",
    "   \n",
    "    start_of_sequence_id = target_vocab_to_int[\"<GO>\"]\n",
    "    end_of_sequence_id = target_vocab_to_int[\"<EOS>\"]\n",
    "    with tf.variable_scope(\"decoding\", reuse=True) as decoding_scope:\n",
    "        outputs_infer = decoding_layer_infer(encoder_state, dec_cell, dec_embeddings, start_of_sequence_id,\n",
    "                             end_of_sequence_id, max_target_sequence_length,\n",
    "                             target_vocab_size, output_layer, batch_size, keep_prob)\n",
    " \n",
    "    return outputs_train, outputs_infer\n",
    "\n",
    "\n",
    "\n",
    "\"\"\"\n",
    "DON'T MODIFY ANYTHING IN THIS CELL THAT IS BELOW THIS LINE\n",
    "\"\"\"\n",
    "tests.test_decoding_layer(decoding_layer)"
   ]
  },
  {
   "cell_type": "markdown",
   "metadata": {},
   "source": [
    "### Build the Neural Network\n",
    "Apply the functions you implemented above to:\n",
    "\n",
    "- Encode the input using your `encoding_layer(rnn_inputs, rnn_size, num_layers, keep_prob,  source_sequence_length, source_vocab_size, encoding_embedding_size)`.\n",
    "- Process target data using your `process_decoder_input(target_data, target_vocab_to_int, batch_size)` function.\n",
    "- Decode the encoded input using your `decoding_layer(dec_input, enc_state, target_sequence_length, max_target_sentence_length, rnn_size, num_layers, target_vocab_to_int, target_vocab_size, batch_size, keep_prob, dec_embedding_size)` function."
   ]
  },
  {
   "cell_type": "code",
   "execution_count": 13,
   "metadata": {
    "collapsed": false
   },
   "outputs": [
    {
     "name": "stdout",
     "output_type": "stream",
     "text": [
      "Tests Passed\n"
     ]
    }
   ],
   "source": [
    "def seq2seq_model(input_data, target_data, keep_prob, batch_size,\n",
    "                  source_sequence_length, target_sequence_length,\n",
    "                  max_target_sentence_length,\n",
    "                  source_vocab_size, target_vocab_size,\n",
    "                  enc_embedding_size, dec_embedding_size,\n",
    "                  rnn_size, num_layers, target_vocab_to_int):\n",
    "    \"\"\"\n",
    "    Build the Sequence-to-Sequence part of the neural network\n",
    "    :param input_data: Input placeholder\n",
    "    :param target_data: Target placeholder\n",
    "    :param keep_prob: Dropout keep probability placeholder\n",
    "    :param batch_size: Batch Size\n",
    "    :param source_sequence_length: Sequence Lengths of source sequences in the batch\n",
    "    :param target_sequence_length: Sequence Lengths of target sequences in the batch\n",
    "    :param source_vocab_size: Source vocabulary size\n",
    "    :param target_vocab_size: Target vocabulary size\n",
    "    :param enc_embedding_size: Decoder embedding size\n",
    "    :param dec_embedding_size: Encoder embedding size\n",
    "    :param rnn_size: RNN Size\n",
    "    :param num_layers: Number of layers\n",
    "    :param target_vocab_to_int: Dictionary to go from the target words to an id\n",
    "    :return: Tuple of (Training BasicDecoderOutput, Inference BasicDecoderOutput)\n",
    "    \"\"\"\n",
    "    # TODO: Implement Function\n",
    "    enc_output, enc_state = encoding_layer(input_data, rnn_size, num_layers, keep_prob,\\\n",
    "                                           source_sequence_length, source_vocab_size, enc_embedding_size)\n",
    "\n",
    "    dec_input = process_decoder_input(target_data, target_vocab_to_int, batch_size) \n",
    " \n",
    "    outputs_train, outputs_infer = decoding_layer(dec_input, enc_state, target_sequence_length,\\\n",
    "                                                          tf.reduce_max(target_sequence_length),rnn_size,\\\n",
    "                                                          num_layers, target_vocab_to_int, target_vocab_size,\\\n",
    "                                                          batch_size, keep_prob, dec_embedding_size)\n",
    "    \n",
    "    return outputs_train, outputs_infer\n",
    "\n",
    "\n",
    "\"\"\"\n",
    "DON'T MODIFY ANYTHING IN THIS CELL THAT IS BELOW THIS LINE\n",
    "\"\"\"\n",
    "tests.test_seq2seq_model(seq2seq_model)"
   ]
  },
  {
   "cell_type": "markdown",
   "metadata": {},
   "source": [
    "## Neural Network Training\n",
    "### Hyperparameters\n",
    "Tune the following parameters:\n",
    "\n",
    "- Set `epochs` to the number of epochs.\n",
    "- Set `batch_size` to the batch size.\n",
    "- Set `rnn_size` to the size of the RNNs.\n",
    "- Set `num_layers` to the number of layers.\n",
    "- Set `encoding_embedding_size` to the size of the embedding for the encoder.\n",
    "- Set `decoding_embedding_size` to the size of the embedding for the decoder.\n",
    "- Set `learning_rate` to the learning rate.\n",
    "- Set `keep_probability` to the Dropout keep probability\n",
    "- Set `display_step` to state how many steps between each debug output statement"
   ]
  },
  {
   "cell_type": "code",
   "execution_count": 14,
   "metadata": {
    "collapsed": true
   },
   "outputs": [],
   "source": [
    "# Number of Epochs\n",
    "epochs = 6\n",
    "# Batch Size\n",
    "batch_size = 512\n",
    "# RNN Size\n",
    "rnn_size = 128\n",
    "# Number of Layers\n",
    "num_layers = 3\n",
    "# Embedding Size\n",
    "encoding_embedding_size = 128\n",
    "decoding_embedding_size = 128\n",
    "# Learning Rate\n",
    "learning_rate = 0.005\n",
    "# Dropout Keep Probability\n",
    "keep_probability = 0.9\n",
    "display_step = 10"
   ]
  },
  {
   "cell_type": "markdown",
   "metadata": {},
   "source": [
    "### Build the Graph\n",
    "Build the graph using the neural network you implemented."
   ]
  },
  {
   "cell_type": "code",
   "execution_count": 15,
   "metadata": {
    "collapsed": true
   },
   "outputs": [],
   "source": [
    "\"\"\"\n",
    "DON'T MODIFY ANYTHING IN THIS CELL\n",
    "\"\"\"\n",
    "save_path = 'checkpoints/dev'\n",
    "(source_int_text, target_int_text), (source_vocab_to_int, target_vocab_to_int), _ = helper.load_preprocess()\n",
    "max_target_sentence_length = max([len(sentence) for sentence in source_int_text])\n",
    "\n",
    "train_graph = tf.Graph()\n",
    "with train_graph.as_default():\n",
    "    input_data, targets, lr, keep_prob, target_sequence_length, max_target_sequence_length, source_sequence_length = model_inputs()\n",
    "\n",
    "    #sequence_length = tf.placeholder_with_default(max_target_sentence_length, None, name='sequence_length')\n",
    "    input_shape = tf.shape(input_data)\n",
    "\n",
    "    train_logits, inference_logits = seq2seq_model(tf.reverse(input_data, [-1]),\n",
    "                                                   targets,\n",
    "                                                   keep_prob,\n",
    "                                                   batch_size,\n",
    "                                                   source_sequence_length,\n",
    "                                                   target_sequence_length,\n",
    "                                                   max_target_sequence_length,\n",
    "                                                   len(source_vocab_to_int),\n",
    "                                                   len(target_vocab_to_int),\n",
    "                                                   encoding_embedding_size,\n",
    "                                                   decoding_embedding_size,\n",
    "                                                   rnn_size,\n",
    "                                                   num_layers,\n",
    "                                                   target_vocab_to_int)\n",
    "\n",
    "\n",
    "    training_logits = tf.identity(train_logits.rnn_output, name='logits')\n",
    "    inference_logits = tf.identity(inference_logits.sample_id, name='predictions')\n",
    "\n",
    "    masks = tf.sequence_mask(target_sequence_length, max_target_sequence_length, dtype=tf.float32, name='masks')\n",
    "\n",
    "    with tf.name_scope(\"optimization\"):\n",
    "        # Loss function\n",
    "        cost = tf.contrib.seq2seq.sequence_loss(\n",
    "            training_logits,\n",
    "            targets,\n",
    "            masks)\n",
    "\n",
    "        # Optimizer\n",
    "        optimizer = tf.train.AdamOptimizer(lr)\n",
    "\n",
    "        # Gradient Clipping\n",
    "        gradients = optimizer.compute_gradients(cost)\n",
    "        capped_gradients = [(tf.clip_by_value(grad, -1., 1.), var) for grad, var in gradients if grad is not None]\n",
    "        train_op = optimizer.apply_gradients(capped_gradients)\n"
   ]
  },
  {
   "cell_type": "markdown",
   "metadata": {},
   "source": [
    "Batch and pad the source and target sequences"
   ]
  },
  {
   "cell_type": "code",
   "execution_count": 16,
   "metadata": {
    "collapsed": true
   },
   "outputs": [],
   "source": [
    "\"\"\"\n",
    "DON'T MODIFY ANYTHING IN THIS CELL\n",
    "\"\"\"\n",
    "def pad_sentence_batch(sentence_batch, pad_int):\n",
    "    \"\"\"Pad sentences with <PAD> so that each sentence of a batch has the same length\"\"\"\n",
    "    max_sentence = max([len(sentence) for sentence in sentence_batch])\n",
    "    return [sentence + [pad_int] * (max_sentence - len(sentence)) for sentence in sentence_batch]\n",
    "\n",
    "\n",
    "def get_batches(sources, targets, batch_size, source_pad_int, target_pad_int):\n",
    "    \"\"\"Batch targets, sources, and the lengths of their sentences together\"\"\"\n",
    "    for batch_i in range(0, len(sources)//batch_size):\n",
    "        start_i = batch_i * batch_size\n",
    "\n",
    "        # Slice the right amount for the batch\n",
    "        sources_batch = sources[start_i:start_i + batch_size]\n",
    "        targets_batch = targets[start_i:start_i + batch_size]\n",
    "\n",
    "        # Pad\n",
    "        pad_sources_batch = np.array(pad_sentence_batch(sources_batch, source_pad_int))\n",
    "        pad_targets_batch = np.array(pad_sentence_batch(targets_batch, target_pad_int))\n",
    "\n",
    "        # Need the lengths for the _lengths parameters\n",
    "        pad_targets_lengths = []\n",
    "        for target in pad_targets_batch:\n",
    "            pad_targets_lengths.append(len(target))\n",
    "\n",
    "        pad_source_lengths = []\n",
    "        for source in pad_sources_batch:\n",
    "            pad_source_lengths.append(len(source))\n",
    "\n",
    "        yield pad_sources_batch, pad_targets_batch, pad_source_lengths, pad_targets_lengths\n"
   ]
  },
  {
   "cell_type": "markdown",
   "metadata": {},
   "source": [
    "### Train\n",
    "Train the neural network on the preprocessed data. If you have a hard time getting a good loss, check the forms to see if anyone is having the same problem."
   ]
  },
  {
   "cell_type": "code",
   "execution_count": 17,
   "metadata": {
    "collapsed": false,
    "scrolled": true
   },
   "outputs": [
    {
     "name": "stdout",
     "output_type": "stream",
     "text": [
      "Epoch   0 Batch   10/269 - Train Accuracy: 0.2942, Validation Accuracy: 0.3633, Loss: 3.2876\n",
      "Epoch   0 Batch   20/269 - Train Accuracy: 0.3237, Validation Accuracy: 0.3835, Loss: 3.0340\n",
      "Epoch   0 Batch   30/269 - Train Accuracy: 0.3890, Validation Accuracy: 0.4201, Loss: 2.7226\n",
      "Epoch   0 Batch   40/269 - Train Accuracy: 0.3847, Validation Accuracy: 0.4393, Loss: 2.6267\n",
      "Epoch   0 Batch   50/269 - Train Accuracy: 0.4294, Validation Accuracy: 0.4818, Loss: 2.4453\n",
      "Epoch   0 Batch   60/269 - Train Accuracy: 0.4735, Validation Accuracy: 0.4869, Loss: 2.1420\n",
      "Epoch   0 Batch   70/269 - Train Accuracy: 0.5137, Validation Accuracy: 0.5225, Loss: 2.2339\n",
      "Epoch   0 Batch   80/269 - Train Accuracy: 0.4673, Validation Accuracy: 0.4824, Loss: 1.9358\n",
      "Epoch   0 Batch   90/269 - Train Accuracy: 0.4742, Validation Accuracy: 0.5320, Loss: 2.0313\n",
      "Epoch   0 Batch  100/269 - Train Accuracy: 0.5247, Validation Accuracy: 0.5305, Loss: 1.7426\n",
      "Epoch   0 Batch  110/269 - Train Accuracy: 0.5006, Validation Accuracy: 0.5258, Loss: 1.6837\n",
      "Epoch   0 Batch  120/269 - Train Accuracy: 0.4842, Validation Accuracy: 0.5307, Loss: 1.6179\n",
      "Epoch   0 Batch  130/269 - Train Accuracy: 0.4629, Validation Accuracy: 0.5201, Loss: 1.5442\n",
      "Epoch   0 Batch  140/269 - Train Accuracy: 0.5419, Validation Accuracy: 0.5472, Loss: 1.4488\n",
      "Epoch   0 Batch  150/269 - Train Accuracy: 0.5345, Validation Accuracy: 0.5512, Loss: 1.3075\n",
      "Epoch   0 Batch  160/269 - Train Accuracy: 0.5364, Validation Accuracy: 0.5514, Loss: 1.2531\n",
      "Epoch   0 Batch  170/269 - Train Accuracy: 0.5373, Validation Accuracy: 0.5597, Loss: 1.1598\n",
      "Epoch   0 Batch  180/269 - Train Accuracy: 0.5513, Validation Accuracy: 0.5577, Loss: 1.0821\n",
      "Epoch   0 Batch  190/269 - Train Accuracy: 0.5450, Validation Accuracy: 0.5550, Loss: 1.0156\n",
      "Epoch   0 Batch  200/269 - Train Accuracy: 0.5298, Validation Accuracy: 0.5551, Loss: 1.0096\n",
      "Epoch   0 Batch  210/269 - Train Accuracy: 0.5459, Validation Accuracy: 0.5481, Loss: 0.9098\n",
      "Epoch   0 Batch  220/269 - Train Accuracy: 0.5532, Validation Accuracy: 0.5689, Loss: 0.8308\n",
      "Epoch   0 Batch  230/269 - Train Accuracy: 0.5429, Validation Accuracy: 0.5647, Loss: 0.8492\n",
      "Epoch   0 Batch  240/269 - Train Accuracy: 0.5855, Validation Accuracy: 0.5685, Loss: 0.7452\n",
      "Epoch   0 Batch  250/269 - Train Accuracy: 0.5372, Validation Accuracy: 0.5749, Loss: 0.7949\n",
      "Epoch   0 Batch  260/269 - Train Accuracy: 0.5474, Validation Accuracy: 0.5845, Loss: 0.8036\n",
      "Epoch   1 Batch   10/269 - Train Accuracy: 0.5686, Validation Accuracy: 0.5942, Loss: 0.7513\n",
      "Epoch   1 Batch   20/269 - Train Accuracy: 0.5865, Validation Accuracy: 0.6150, Loss: 0.7225\n",
      "Epoch   1 Batch   30/269 - Train Accuracy: 0.5991, Validation Accuracy: 0.5979, Loss: 0.6777\n",
      "Epoch   1 Batch   40/269 - Train Accuracy: 0.5944, Validation Accuracy: 0.6094, Loss: 0.7035\n",
      "Epoch   1 Batch   50/269 - Train Accuracy: 0.6108, Validation Accuracy: 0.6247, Loss: 0.6777\n",
      "Epoch   1 Batch   60/269 - Train Accuracy: 0.6273, Validation Accuracy: 0.6244, Loss: 0.6117\n",
      "Epoch   1 Batch   70/269 - Train Accuracy: 0.6350, Validation Accuracy: 0.6281, Loss: 0.6290\n",
      "Epoch   1 Batch   80/269 - Train Accuracy: 0.6377, Validation Accuracy: 0.6354, Loss: 0.6101\n",
      "Epoch   1 Batch   90/269 - Train Accuracy: 0.5957, Validation Accuracy: 0.6373, Loss: 0.6426\n",
      "Epoch   1 Batch  100/269 - Train Accuracy: 0.6596, Validation Accuracy: 0.6424, Loss: 0.5883\n",
      "Epoch   1 Batch  110/269 - Train Accuracy: 0.6357, Validation Accuracy: 0.6463, Loss: 0.5780\n",
      "Epoch   1 Batch  120/269 - Train Accuracy: 0.6319, Validation Accuracy: 0.6490, Loss: 0.5849\n",
      "Epoch   1 Batch  130/269 - Train Accuracy: 0.6195, Validation Accuracy: 0.6575, Loss: 0.5749\n",
      "Epoch   1 Batch  140/269 - Train Accuracy: 0.6412, Validation Accuracy: 0.6614, Loss: 0.5588\n",
      "Epoch   1 Batch  150/269 - Train Accuracy: 0.6500, Validation Accuracy: 0.6602, Loss: 0.5378\n",
      "Epoch   1 Batch  160/269 - Train Accuracy: 0.6570, Validation Accuracy: 0.6519, Loss: 0.5122\n",
      "Epoch   1 Batch  170/269 - Train Accuracy: 0.6573, Validation Accuracy: 0.6626, Loss: 0.4964\n",
      "Epoch   1 Batch  180/269 - Train Accuracy: 0.6669, Validation Accuracy: 0.6719, Loss: 0.4938\n",
      "Epoch   1 Batch  190/269 - Train Accuracy: 0.6883, Validation Accuracy: 0.6823, Loss: 0.4703\n",
      "Epoch   1 Batch  200/269 - Train Accuracy: 0.6812, Validation Accuracy: 0.6982, Loss: 0.4799\n",
      "Epoch   1 Batch  210/269 - Train Accuracy: 0.6820, Validation Accuracy: 0.6747, Loss: 0.4630\n",
      "Epoch   1 Batch  220/269 - Train Accuracy: 0.6864, Validation Accuracy: 0.6883, Loss: 0.4267\n",
      "Epoch   1 Batch  230/269 - Train Accuracy: 0.7046, Validation Accuracy: 0.7074, Loss: 0.4357\n",
      "Epoch   1 Batch  240/269 - Train Accuracy: 0.7506, Validation Accuracy: 0.7334, Loss: 0.3765\n",
      "Epoch   1 Batch  250/269 - Train Accuracy: 0.7326, Validation Accuracy: 0.7306, Loss: 0.4094\n",
      "Epoch   1 Batch  260/269 - Train Accuracy: 0.7137, Validation Accuracy: 0.7345, Loss: 0.4088\n",
      "Epoch   2 Batch   10/269 - Train Accuracy: 0.7481, Validation Accuracy: 0.7519, Loss: 0.3734\n",
      "Epoch   2 Batch   20/269 - Train Accuracy: 0.7174, Validation Accuracy: 0.7231, Loss: 0.3673\n",
      "Epoch   2 Batch   30/269 - Train Accuracy: 0.7602, Validation Accuracy: 0.7621, Loss: 0.3386\n",
      "Epoch   2 Batch   40/269 - Train Accuracy: 0.7591, Validation Accuracy: 0.7762, Loss: 0.3354\n",
      "Epoch   2 Batch   50/269 - Train Accuracy: 0.7708, Validation Accuracy: 0.7846, Loss: 0.3273\n",
      "Epoch   2 Batch   60/269 - Train Accuracy: 0.7891, Validation Accuracy: 0.7908, Loss: 0.2768\n",
      "Epoch   2 Batch   70/269 - Train Accuracy: 0.8118, Validation Accuracy: 0.7919, Loss: 0.2828\n",
      "Epoch   2 Batch   80/269 - Train Accuracy: 0.7955, Validation Accuracy: 0.8050, Loss: 0.2793\n",
      "Epoch   2 Batch   90/269 - Train Accuracy: 0.7882, Validation Accuracy: 0.8002, Loss: 0.2741\n",
      "Epoch   2 Batch  100/269 - Train Accuracy: 0.8192, Validation Accuracy: 0.8057, Loss: 0.2529\n",
      "Epoch   2 Batch  110/269 - Train Accuracy: 0.8135, Validation Accuracy: 0.8081, Loss: 0.2508\n",
      "Epoch   2 Batch  120/269 - Train Accuracy: 0.8056, Validation Accuracy: 0.8150, Loss: 0.2443\n",
      "Epoch   2 Batch  130/269 - Train Accuracy: 0.8137, Validation Accuracy: 0.8119, Loss: 0.2390\n",
      "Epoch   2 Batch  140/269 - Train Accuracy: 0.8328, Validation Accuracy: 0.8289, Loss: 0.2229\n",
      "Epoch   2 Batch  150/269 - Train Accuracy: 0.8344, Validation Accuracy: 0.8316, Loss: 0.2113\n",
      "Epoch   2 Batch  160/269 - Train Accuracy: 0.8328, Validation Accuracy: 0.8344, Loss: 0.2017\n",
      "Epoch   2 Batch  170/269 - Train Accuracy: 0.8415, Validation Accuracy: 0.8468, Loss: 0.1884\n",
      "Epoch   2 Batch  180/269 - Train Accuracy: 0.8648, Validation Accuracy: 0.8599, Loss: 0.1866\n",
      "Epoch   2 Batch  190/269 - Train Accuracy: 0.8612, Validation Accuracy: 0.8521, Loss: 0.1755\n",
      "Epoch   2 Batch  200/269 - Train Accuracy: 0.8660, Validation Accuracy: 0.8531, Loss: 0.1769\n",
      "Epoch   2 Batch  210/269 - Train Accuracy: 0.8551, Validation Accuracy: 0.8644, Loss: 0.1656\n",
      "Epoch   2 Batch  220/269 - Train Accuracy: 0.8459, Validation Accuracy: 0.8471, Loss: 0.1724\n",
      "Epoch   2 Batch  230/269 - Train Accuracy: 0.8688, Validation Accuracy: 0.8747, Loss: 0.1588\n",
      "Epoch   2 Batch  240/269 - Train Accuracy: 0.8840, Validation Accuracy: 0.8723, Loss: 0.1408\n",
      "Epoch   2 Batch  250/269 - Train Accuracy: 0.8744, Validation Accuracy: 0.8728, Loss: 0.1457\n",
      "Epoch   2 Batch  260/269 - Train Accuracy: 0.8728, Validation Accuracy: 0.8755, Loss: 0.1461\n",
      "Epoch   3 Batch   10/269 - Train Accuracy: 0.8924, Validation Accuracy: 0.8961, Loss: 0.1227\n",
      "Epoch   3 Batch   20/269 - Train Accuracy: 0.8972, Validation Accuracy: 0.8819, Loss: 0.1249\n",
      "Epoch   3 Batch   30/269 - Train Accuracy: 0.8881, Validation Accuracy: 0.8817, Loss: 0.1226\n",
      "Epoch   3 Batch   40/269 - Train Accuracy: 0.8928, Validation Accuracy: 0.8939, Loss: 0.1242\n",
      "Epoch   3 Batch   50/269 - Train Accuracy: 0.8800, Validation Accuracy: 0.8928, Loss: 0.1262\n",
      "Epoch   3 Batch   60/269 - Train Accuracy: 0.9080, Validation Accuracy: 0.8924, Loss: 0.1018\n",
      "Epoch   3 Batch   70/269 - Train Accuracy: 0.9029, Validation Accuracy: 0.9030, Loss: 0.1079\n",
      "Epoch   3 Batch   80/269 - Train Accuracy: 0.9077, Validation Accuracy: 0.9012, Loss: 0.1014\n",
      "Epoch   3 Batch   90/269 - Train Accuracy: 0.9083, Validation Accuracy: 0.9137, Loss: 0.1017\n",
      "Epoch   3 Batch  100/269 - Train Accuracy: 0.9118, Validation Accuracy: 0.8912, Loss: 0.0961\n",
      "Epoch   3 Batch  110/269 - Train Accuracy: 0.9073, Validation Accuracy: 0.9041, Loss: 0.0900\n",
      "Epoch   3 Batch  120/269 - Train Accuracy: 0.9075, Validation Accuracy: 0.8983, Loss: 0.1002\n",
      "Epoch   3 Batch  130/269 - Train Accuracy: 0.9097, Validation Accuracy: 0.9103, Loss: 0.1026\n",
      "Epoch   3 Batch  140/269 - Train Accuracy: 0.9086, Validation Accuracy: 0.9111, Loss: 0.0898\n",
      "Epoch   3 Batch  150/269 - Train Accuracy: 0.9074, Validation Accuracy: 0.9148, Loss: 0.0827\n",
      "Epoch   3 Batch  160/269 - Train Accuracy: 0.9054, Validation Accuracy: 0.9288, Loss: 0.0787\n",
      "Epoch   3 Batch  170/269 - Train Accuracy: 0.9172, Validation Accuracy: 0.9256, Loss: 0.0700\n",
      "Epoch   3 Batch  180/269 - Train Accuracy: 0.9322, Validation Accuracy: 0.9306, Loss: 0.0702\n",
      "Epoch   3 Batch  190/269 - Train Accuracy: 0.9144, Validation Accuracy: 0.9272, Loss: 0.0701\n",
      "Epoch   3 Batch  200/269 - Train Accuracy: 0.9216, Validation Accuracy: 0.9254, Loss: 0.0687\n",
      "Epoch   3 Batch  210/269 - Train Accuracy: 0.9160, Validation Accuracy: 0.9254, Loss: 0.0659\n",
      "Epoch   3 Batch  220/269 - Train Accuracy: 0.9268, Validation Accuracy: 0.9371, Loss: 0.0617\n",
      "Epoch   3 Batch  230/269 - Train Accuracy: 0.9339, Validation Accuracy: 0.9330, Loss: 0.0608\n",
      "Epoch   3 Batch  240/269 - Train Accuracy: 0.9337, Validation Accuracy: 0.9258, Loss: 0.0557\n",
      "Epoch   3 Batch  250/269 - Train Accuracy: 0.9301, Validation Accuracy: 0.9271, Loss: 0.0591\n",
      "Epoch   3 Batch  260/269 - Train Accuracy: 0.9249, Validation Accuracy: 0.9261, Loss: 0.0638\n",
      "Epoch   4 Batch   10/269 - Train Accuracy: 0.9406, Validation Accuracy: 0.9369, Loss: 0.0514\n",
      "Epoch   4 Batch   20/269 - Train Accuracy: 0.9371, Validation Accuracy: 0.9429, Loss: 0.0544\n",
      "Epoch   4 Batch   30/269 - Train Accuracy: 0.9342, Validation Accuracy: 0.9375, Loss: 0.0570\n",
      "Epoch   4 Batch   40/269 - Train Accuracy: 0.9278, Validation Accuracy: 0.9369, Loss: 0.0606\n",
      "Epoch   4 Batch   50/269 - Train Accuracy: 0.9080, Validation Accuracy: 0.9321, Loss: 0.0624\n",
      "Epoch   4 Batch   60/269 - Train Accuracy: 0.9371, Validation Accuracy: 0.9357, Loss: 0.0560\n",
      "Epoch   4 Batch   70/269 - Train Accuracy: 0.9313, Validation Accuracy: 0.9339, Loss: 0.0614\n",
      "Epoch   4 Batch   80/269 - Train Accuracy: 0.9214, Validation Accuracy: 0.9427, Loss: 0.0570\n",
      "Epoch   4 Batch   90/269 - Train Accuracy: 0.9410, Validation Accuracy: 0.9373, Loss: 0.0535\n",
      "Epoch   4 Batch  100/269 - Train Accuracy: 0.9388, Validation Accuracy: 0.9434, Loss: 0.0528\n",
      "Epoch   4 Batch  110/269 - Train Accuracy: 0.9384, Validation Accuracy: 0.9406, Loss: 0.0487\n",
      "Epoch   4 Batch  120/269 - Train Accuracy: 0.9474, Validation Accuracy: 0.9395, Loss: 0.0499\n",
      "Epoch   4 Batch  130/269 - Train Accuracy: 0.9418, Validation Accuracy: 0.9412, Loss: 0.0478\n",
      "Epoch   4 Batch  140/269 - Train Accuracy: 0.9319, Validation Accuracy: 0.9337, Loss: 0.0513\n",
      "Epoch   4 Batch  150/269 - Train Accuracy: 0.9486, Validation Accuracy: 0.9406, Loss: 0.0490\n",
      "Epoch   4 Batch  160/269 - Train Accuracy: 0.9393, Validation Accuracy: 0.9477, Loss: 0.0438\n",
      "Epoch   4 Batch  170/269 - Train Accuracy: 0.9514, Validation Accuracy: 0.9603, Loss: 0.0390\n",
      "Epoch   4 Batch  180/269 - Train Accuracy: 0.9645, Validation Accuracy: 0.9450, Loss: 0.0407\n",
      "Epoch   4 Batch  190/269 - Train Accuracy: 0.9480, Validation Accuracy: 0.9419, Loss: 0.0422\n",
      "Epoch   4 Batch  200/269 - Train Accuracy: 0.9504, Validation Accuracy: 0.9567, Loss: 0.0388\n",
      "Epoch   4 Batch  210/269 - Train Accuracy: 0.9420, Validation Accuracy: 0.9505, Loss: 0.0397\n",
      "Epoch   4 Batch  220/269 - Train Accuracy: 0.9437, Validation Accuracy: 0.9437, Loss: 0.0410\n",
      "Epoch   4 Batch  230/269 - Train Accuracy: 0.9552, Validation Accuracy: 0.9554, Loss: 0.0398\n",
      "Epoch   4 Batch  240/269 - Train Accuracy: 0.9490, Validation Accuracy: 0.9458, Loss: 0.0375\n",
      "Epoch   4 Batch  250/269 - Train Accuracy: 0.9514, Validation Accuracy: 0.9505, Loss: 0.0392\n",
      "Epoch   4 Batch  260/269 - Train Accuracy: 0.9493, Validation Accuracy: 0.9553, Loss: 0.0428\n",
      "Epoch   5 Batch   10/269 - Train Accuracy: 0.9631, Validation Accuracy: 0.9504, Loss: 0.0323\n",
      "Epoch   5 Batch   20/269 - Train Accuracy: 0.9565, Validation Accuracy: 0.9418, Loss: 0.0346\n",
      "Epoch   5 Batch   30/269 - Train Accuracy: 0.9544, Validation Accuracy: 0.9531, Loss: 0.0359\n",
      "Epoch   5 Batch   40/269 - Train Accuracy: 0.9401, Validation Accuracy: 0.9474, Loss: 0.0415\n",
      "Epoch   5 Batch   50/269 - Train Accuracy: 0.9286, Validation Accuracy: 0.9535, Loss: 0.0471\n",
      "Epoch   5 Batch   60/269 - Train Accuracy: 0.9468, Validation Accuracy: 0.9552, Loss: 0.0368\n",
      "Epoch   5 Batch   70/269 - Train Accuracy: 0.9481, Validation Accuracy: 0.9416, Loss: 0.0377\n",
      "Epoch   5 Batch   80/269 - Train Accuracy: 0.9347, Validation Accuracy: 0.9426, Loss: 0.0399\n",
      "Epoch   5 Batch   90/269 - Train Accuracy: 0.9428, Validation Accuracy: 0.9430, Loss: 0.0408\n",
      "Epoch   5 Batch  100/269 - Train Accuracy: 0.9422, Validation Accuracy: 0.9558, Loss: 0.0385\n",
      "Epoch   5 Batch  110/269 - Train Accuracy: 0.9465, Validation Accuracy: 0.9483, Loss: 0.0338\n",
      "Epoch   5 Batch  120/269 - Train Accuracy: 0.9530, Validation Accuracy: 0.9482, Loss: 0.0350\n",
      "Epoch   5 Batch  130/269 - Train Accuracy: 0.9554, Validation Accuracy: 0.9487, Loss: 0.0349\n",
      "Epoch   5 Batch  140/269 - Train Accuracy: 0.9549, Validation Accuracy: 0.9561, Loss: 0.0368\n",
      "Epoch   5 Batch  150/269 - Train Accuracy: 0.9516, Validation Accuracy: 0.9491, Loss: 0.0374\n",
      "Epoch   5 Batch  160/269 - Train Accuracy: 0.9554, Validation Accuracy: 0.9605, Loss: 0.0316\n",
      "Epoch   5 Batch  170/269 - Train Accuracy: 0.9572, Validation Accuracy: 0.9683, Loss: 0.0279\n",
      "Epoch   5 Batch  180/269 - Train Accuracy: 0.9678, Validation Accuracy: 0.9711, Loss: 0.0297\n",
      "Epoch   5 Batch  190/269 - Train Accuracy: 0.9531, Validation Accuracy: 0.9642, Loss: 0.0323\n",
      "Epoch   5 Batch  200/269 - Train Accuracy: 0.9640, Validation Accuracy: 0.9584, Loss: 0.0270\n",
      "Epoch   5 Batch  210/269 - Train Accuracy: 0.9528, Validation Accuracy: 0.9520, Loss: 0.0280\n",
      "Epoch   5 Batch  220/269 - Train Accuracy: 0.9469, Validation Accuracy: 0.9613, Loss: 0.0309\n",
      "Epoch   5 Batch  230/269 - Train Accuracy: 0.9682, Validation Accuracy: 0.9674, Loss: 0.0275\n",
      "Epoch   5 Batch  240/269 - Train Accuracy: 0.9632, Validation Accuracy: 0.9675, Loss: 0.0277\n",
      "Epoch   5 Batch  250/269 - Train Accuracy: 0.9563, Validation Accuracy: 0.9549, Loss: 0.0279\n",
      "Epoch   5 Batch  260/269 - Train Accuracy: 0.9601, Validation Accuracy: 0.9662, Loss: 0.0313\n",
      "Model Trained and Saved\n"
     ]
    }
   ],
   "source": [
    "\"\"\"\n",
    "DON'T MODIFY ANYTHING IN THIS CELL\n",
    "\"\"\"\n",
    "def get_accuracy(target, logits):\n",
    "    \"\"\"\n",
    "    Calculate accuracy\n",
    "    \"\"\"\n",
    "    max_seq = max(target.shape[1], logits.shape[1])\n",
    "    if max_seq - target.shape[1]:\n",
    "        target = np.pad(\n",
    "            target,\n",
    "            [(0,0),(0,max_seq - target.shape[1])],\n",
    "            'constant')\n",
    "    if max_seq - logits.shape[1]:\n",
    "        logits = np.pad(\n",
    "            logits,\n",
    "            [(0,0),(0,max_seq - logits.shape[1])],\n",
    "            'constant')\n",
    "\n",
    "    return np.mean(np.equal(target, logits))\n",
    "\n",
    "# Split data to training and validation sets\n",
    "train_source = source_int_text[batch_size:]\n",
    "train_target = target_int_text[batch_size:]\n",
    "valid_source = source_int_text[:batch_size]\n",
    "valid_target = target_int_text[:batch_size]\n",
    "(valid_sources_batch, valid_targets_batch, valid_sources_lengths, valid_targets_lengths ) = next(get_batches(valid_source,\n",
    "                                                                                                             valid_target,\n",
    "                                                                                                             batch_size,\n",
    "                                                                                                             source_vocab_to_int['<PAD>'],\n",
    "                                                                                                             target_vocab_to_int['<PAD>']))                                                                                                  \n",
    "with tf.Session(graph=train_graph) as sess:\n",
    "    sess.run(tf.global_variables_initializer())\n",
    "\n",
    "    for epoch_i in range(epochs):\n",
    "        for batch_i, (source_batch, target_batch, sources_lengths, targets_lengths) in enumerate(\n",
    "                get_batches(train_source, train_target, batch_size,\n",
    "                            source_vocab_to_int['<PAD>'],\n",
    "                            target_vocab_to_int['<PAD>'])):\n",
    "\n",
    "            _, loss = sess.run(\n",
    "                [train_op, cost],\n",
    "                {input_data: source_batch,\n",
    "                 targets: target_batch,\n",
    "                 lr: learning_rate,\n",
    "                 target_sequence_length: targets_lengths,\n",
    "                 source_sequence_length: sources_lengths,\n",
    "                 keep_prob: keep_probability})\n",
    "\n",
    "\n",
    "            if batch_i % display_step == 0 and batch_i > 0:\n",
    "\n",
    "\n",
    "                batch_train_logits = sess.run(\n",
    "                    inference_logits,\n",
    "                    {input_data: source_batch,\n",
    "                     source_sequence_length: sources_lengths,\n",
    "                     target_sequence_length: targets_lengths,\n",
    "                     keep_prob: 1.0})\n",
    "\n",
    "\n",
    "                batch_valid_logits = sess.run(\n",
    "                    inference_logits,\n",
    "                    {input_data: valid_sources_batch,\n",
    "                     source_sequence_length: valid_sources_lengths,\n",
    "                     target_sequence_length: valid_targets_lengths,\n",
    "                     keep_prob: 1.0})\n",
    "\n",
    "                train_acc = get_accuracy(target_batch, batch_train_logits)\n",
    "\n",
    "                valid_acc = get_accuracy(valid_targets_batch, batch_valid_logits)\n",
    "\n",
    "                print('Epoch {:>3} Batch {:>4}/{} - Train Accuracy: {:>6.4f}, Validation Accuracy: {:>6.4f}, Loss: {:>6.4f}'\n",
    "                      .format(epoch_i, batch_i, len(source_int_text) // batch_size, train_acc, valid_acc, loss))\n",
    "\n",
    "    # Save Model\n",
    "    saver = tf.train.Saver()\n",
    "    saver.save(sess, save_path)\n",
    "    print('Model Trained and Saved')"
   ]
  },
  {
   "cell_type": "markdown",
   "metadata": {},
   "source": [
    "### Save Parameters\n",
    "Save the `batch_size` and `save_path` parameters for inference."
   ]
  },
  {
   "cell_type": "code",
   "execution_count": 18,
   "metadata": {
    "collapsed": true
   },
   "outputs": [],
   "source": [
    "\"\"\"\n",
    "DON'T MODIFY ANYTHING IN THIS CELL\n",
    "\"\"\"\n",
    "# Save parameters for checkpoint\n",
    "helper.save_params(save_path)"
   ]
  },
  {
   "cell_type": "markdown",
   "metadata": {},
   "source": [
    "# Checkpoint"
   ]
  },
  {
   "cell_type": "code",
   "execution_count": 19,
   "metadata": {
    "collapsed": true
   },
   "outputs": [],
   "source": [
    "\"\"\"\n",
    "DON'T MODIFY ANYTHING IN THIS CELL\n",
    "\"\"\"\n",
    "import tensorflow as tf\n",
    "import numpy as np\n",
    "import helper\n",
    "import problem_unittests as tests\n",
    "\n",
    "_, (source_vocab_to_int, target_vocab_to_int), (source_int_to_vocab, target_int_to_vocab) = helper.load_preprocess()\n",
    "load_path = helper.load_params()"
   ]
  },
  {
   "cell_type": "markdown",
   "metadata": {},
   "source": [
    "## Sentence to Sequence\n",
    "To feed a sentence into the model for translation, you first need to preprocess it.  Implement the function `sentence_to_seq()` to preprocess new sentences.\n",
    "\n",
    "- Convert the sentence to lowercase\n",
    "- Convert words into ids using `vocab_to_int`\n",
    " - Convert words not in the vocabulary, to the `<UNK>` word id."
   ]
  },
  {
   "cell_type": "code",
   "execution_count": 20,
   "metadata": {
    "collapsed": false
   },
   "outputs": [
    {
     "name": "stdout",
     "output_type": "stream",
     "text": [
      "Tests Passed\n"
     ]
    }
   ],
   "source": [
    "def sentence_to_seq(sentence, vocab_to_int):\n",
    "    \"\"\"\n",
    "    Convert a sentence to a sequence of ids\n",
    "    :param sentence: String\n",
    "    :param vocab_to_int: Dictionary to go from the words to an id\n",
    "    :return: List of word ids\n",
    "    \"\"\"\n",
    "    # TODO: Implement Function\n",
    "    ids = []\n",
    "    for word in sentence.lower().split(' '):\n",
    "        if word in vocab_to_int:\n",
    "            ids.append(vocab_to_int[word])\n",
    "        else: \n",
    "            ids.append(vocab_to_int['<UNK>'])\n",
    "    return ids\n",
    "\n",
    "\n",
    "\"\"\"\n",
    "DON'T MODIFY ANYTHING IN THIS CELL THAT IS BELOW THIS LINE\n",
    "\"\"\"\n",
    "tests.test_sentence_to_seq(sentence_to_seq)"
   ]
  },
  {
   "cell_type": "markdown",
   "metadata": {},
   "source": [
    "## Translate\n",
    "This will translate `translate_sentence` from English to French."
   ]
  },
  {
   "cell_type": "code",
   "execution_count": 21,
   "metadata": {
    "collapsed": false
   },
   "outputs": [
    {
     "name": "stdout",
     "output_type": "stream",
     "text": [
      "INFO:tensorflow:Restoring parameters from checkpoints/dev\n",
      "Input\n",
      "  Word Ids:      [133, 138, 115, 22, 226, 160, 195]\n",
      "  English Words: ['he', 'saw', 'a', 'old', 'yellow', 'truck', '.']\n",
      "\n",
      "Prediction\n",
      "  Word Ids:      [355, 314, 24, 299, 317, 172, 64, 71, 1]\n",
      "  French Words: il envisage de visiter à l' automne . <EOS>\n"
     ]
    }
   ],
   "source": [
    "translate_sentence = 'he saw a old yellow truck .'\n",
    "\n",
    "\n",
    "\"\"\"\n",
    "DON'T MODIFY ANYTHING IN THIS CELL\n",
    "\"\"\"\n",
    "translate_sentence = sentence_to_seq(translate_sentence, source_vocab_to_int)\n",
    "\n",
    "loaded_graph = tf.Graph()\n",
    "with tf.Session(graph=loaded_graph) as sess:\n",
    "    # Load saved model\n",
    "    loader = tf.train.import_meta_graph(load_path + '.meta')\n",
    "    loader.restore(sess, load_path)\n",
    "\n",
    "    input_data = loaded_graph.get_tensor_by_name('input:0')\n",
    "    logits = loaded_graph.get_tensor_by_name('predictions:0')\n",
    "    target_sequence_length = loaded_graph.get_tensor_by_name('target_sequence_length:0')\n",
    "    source_sequence_length = loaded_graph.get_tensor_by_name('source_sequence_length:0')\n",
    "    keep_prob = loaded_graph.get_tensor_by_name('keep_prob:0')\n",
    "\n",
    "    translate_logits = sess.run(logits, {input_data: [translate_sentence]*batch_size,\n",
    "                                         target_sequence_length: [len(translate_sentence)*2]*batch_size,\n",
    "                                         source_sequence_length: [len(translate_sentence)]*batch_size,\n",
    "                                         keep_prob: 1.0})[0]\n",
    "\n",
    "print('Input')\n",
    "print('  Word Ids:      {}'.format([i for i in translate_sentence]))\n",
    "print('  English Words: {}'.format([source_int_to_vocab[i] for i in translate_sentence]))\n",
    "\n",
    "print('\\nPrediction')\n",
    "print('  Word Ids:      {}'.format([i for i in translate_logits]))\n",
    "print('  French Words: {}'.format(\" \".join([target_int_to_vocab[i] for i in translate_logits])))\n"
   ]
  },
  {
   "cell_type": "markdown",
   "metadata": {},
   "source": [
    "## Imperfect Translation\n",
    "You might notice that some sentences translate better than others.  Since the dataset you're using only has a vocabulary of 227 English words of the thousands that you use, you're only going to see good results using these words.  For this project, you don't need a perfect translation. However, if you want to create a better translation model, you'll need better data.\n",
    "\n",
    "You can train on the [WMT10 French-English corpus](http://www.statmt.org/wmt10/training-giga-fren.tar).  This dataset has more vocabulary and richer in topics discussed.  However, this will take you days to train, so make sure you've a GPU and the neural network is performing well on dataset we provided.  Just make sure you play with the WMT10 corpus after you've submitted this project.\n",
    "## Submitting This Project\n",
    "When submitting this project, make sure to run all the cells before saving the notebook. Save the notebook file as \"dlnd_language_translation.ipynb\" and save it as a HTML file under \"File\" -> \"Download as\". Include the \"helper.py\" and \"problem_unittests.py\" files in your submission."
   ]
  }
 ],
 "metadata": {
  "anaconda-cloud": {},
  "kernelspec": {
   "display_name": "Python [default]",
   "language": "python",
   "name": "python3"
  },
  "language_info": {
   "codemirror_mode": {
    "name": "ipython",
    "version": 3
   },
   "file_extension": ".py",
   "mimetype": "text/x-python",
   "name": "python",
   "nbconvert_exporter": "python",
   "pygments_lexer": "ipython3",
   "version": "3.5.2"
  }
 },
 "nbformat": 4,
 "nbformat_minor": 1
}
